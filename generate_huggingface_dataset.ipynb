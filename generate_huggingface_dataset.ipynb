{
 "cells": [
  {
   "cell_type": "code",
   "execution_count": 2,
   "id": "93233c8e",
   "metadata": {},
   "outputs": [],
   "source": [
    "%%capture\n",
    "!pip3 install datasets==1.18.3"
   ]
  },
  {
   "cell_type": "code",
   "execution_count": 3,
   "id": "86878814",
   "metadata": {
    "scrolled": true
   },
   "outputs": [],
   "source": [
    "from datasets import load_dataset, Audio, Dataset\n",
    "import os"
   ]
  },
  {
   "cell_type": "code",
   "execution_count": 6,
   "id": "bac2023c",
   "metadata": {},
   "outputs": [
    {
     "name": "stdout",
     "output_type": "stream",
     "text": [
      "Length of audio_files: 436\n",
      "Length of transcripts: 436\n",
      "audio_files[0:3]: ['/Users/saahith/Desktop/EMS-Wav2Vec2/data/audio/synth_data_2020_0.wav', '/Users/saahith/Desktop/EMS-Wav2Vec2/data/audio/synth_data_2020_1.wav', '/Users/saahith/Desktop/EMS-Wav2Vec2/data/audio/synth_data_2020_10.wav']\n",
      "transcripts[0:3]: ['Arrived on scene to be welcomed inside', 'the front door of a single family,', 'this time for no assistance needed. The']\n"
     ]
    }
   ],
   "source": [
    "audio_files = os.listdir(\"./data/audio/\")\n",
    "transcripts = os.listdir(\"./data/transcripts/\")\n",
    "\n",
    "audio_files = [os.path.join(os.path.join(os.getcwd(), \"data/audio\"), path) for path in audio_files]\n",
    "transcript_paths = [os.path.join(os.path.join(os.getcwd(), \"data/transcripts\"), path) for path in transcripts]\n",
    "\n",
    "\n",
    "\n",
    "audio_files.sort()\n",
    "transcript_paths.sort()\n",
    "\n",
    "transcripts = []\n",
    "\n",
    "for path in transcript_paths:\n",
    "    with open(path, \"r\") as f:\n",
    "        text = f.readlines()[0]\n",
    "        transcripts.append(text)\n",
    "\n",
    "\n",
    "\n",
    "print(f\"Length of audio_files: {len(audio_files)}\")\n",
    "print(f\"Length of transcripts: {len(audio_files)}\")\n",
    "\n",
    "\n",
    "print(f\"audio_files[0:3]: {audio_files[0:3]}\")\n",
    "print(f\"transcripts[0:3]: {transcripts[0:3]}\")\n",
    "\n",
    "\n",
    "dataset_dict = {\"audio\": audio_files, \"transcripts\":transcripts}"
   ]
  },
  {
   "cell_type": "code",
   "execution_count": 7,
   "id": "0a72cd93",
   "metadata": {},
   "outputs": [
    {
     "name": "stdout",
     "output_type": "stream",
     "text": [
      "Dataset({\n",
      "    features: ['audio', 'transcripts'],\n",
      "    num_rows: 436\n",
      "})\n",
      "{'audio': {'path': '/Users/saahith/Desktop/EMS-Wav2Vec2/data/audio/synth_data_2020_0.wav', 'array': array([-0.00030518,  0.        , -0.00018311, ...,  0.        ,\n",
      "        0.        ,  0.        ], dtype=float32), 'sampling_rate': 16000}, 'transcripts': 'Arrived on scene to be welcomed inside'}\n"
     ]
    }
   ],
   "source": [
    "dataset = Dataset.from_dict(dataset_dict).cast_column(\"audio\", Audio())\n",
    "print(dataset)\n",
    "print(dataset[0])"
   ]
  },
  {
   "cell_type": "code",
   "execution_count": 8,
   "id": "b1764a4d",
   "metadata": {},
   "outputs": [
    {
     "name": "stdout",
     "output_type": "stream",
     "text": [
      "Login successful\n",
      "Your token has been saved to /Users/saahith/.huggingface/token\n",
      "\u001b[1m\u001b[31mAuthenticated through git-credential store but this isn't the helper defined on your machine.\n",
      "You might have to re-authenticate when pushing to the Hugging Face Hub. Run the following command in your terminal in case you want to set this credential helper as the default\n",
      "\n",
      "git config --global credential.helper store\u001b[0m\n"
     ]
    }
   ],
   "source": [
    "from huggingface_hub import notebook_login\n",
    "notebook_login()"
   ]
  },
  {
   "cell_type": "code",
   "execution_count": null,
   "id": "aa5424ce",
   "metadata": {
    "scrolled": true
   },
   "outputs": [
    {
     "data": {
      "application/vnd.jupyter.widget-view+json": {
       "model_id": "f7c552ce981d42cab45eb7102e196479",
       "version_major": 2,
       "version_minor": 0
      },
      "text/plain": [
       "  0%|          | 0/1 [00:00<?, ?ba/s]"
      ]
     },
     "metadata": {},
     "output_type": "display_data"
    },
    {
     "data": {
      "application/vnd.jupyter.widget-view+json": {
       "model_id": "8638d83ad06141528b23d54eb3e22f45",
       "version_major": 2,
       "version_minor": 0
      },
      "text/plain": [
       "Pushing dataset shards to the dataset hub:   0%|          | 0/1 [00:00<?, ?it/s]"
      ]
     },
     "metadata": {},
     "output_type": "display_data"
    },
    {
     "name": "stderr",
     "output_type": "stream",
     "text": [
      "/Library/Frameworks/Python.framework/Versions/3.8/lib/python3.8/site-packages/huggingface_hub/hf_api.py:1948: FutureWarning: `identical_ok` has no effect and is deprecated. It will be removed in 0.11.0.\n",
      "  warnings.warn(\n"
     ]
    }
   ],
   "source": [
    "dataset.push_to_hub(\"saahith/ems_synth_2020_v1\", private=True)"
   ]
  },
  {
   "cell_type": "code",
   "execution_count": null,
   "id": "914ba8f3",
   "metadata": {},
   "outputs": [],
   "source": []
  }
 ],
 "metadata": {
  "kernelspec": {
   "display_name": "Python 3",
   "language": "python",
   "name": "python3"
  },
  "language_info": {
   "codemirror_mode": {
    "name": "ipython",
    "version": 3
   },
   "file_extension": ".py",
   "mimetype": "text/x-python",
   "name": "python",
   "nbconvert_exporter": "python",
   "pygments_lexer": "ipython3",
   "version": "3.8.1"
  }
 },
 "nbformat": 4,
 "nbformat_minor": 5
}
